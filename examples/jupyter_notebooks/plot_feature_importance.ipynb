{
 "cells": [
  {
   "cell_type": "markdown",
   "metadata": {},
   "source": [
    "### An example showing the plot_feature_importances method used by a scikit-learn classifier"
   ]
  },
  {
   "cell_type": "code",
   "execution_count": 1,
   "metadata": {
    "collapsed": true
   },
   "outputs": [],
   "source": [
    "from sklearn.ensemble import RandomForestClassifier\n",
    "from sklearn.datasets import load_iris as load_data\n",
    "import matplotlib.pyplot as plt\n",
    "from scikitplot import classifier_factory\n",
    "\n",
    "%pylab inline\n",
    "pylab.rcParams['figure.figsize'] = (14, 14)"
   ]
  },
  {
   "cell_type": "code",
   "execution_count": null,
   "metadata": {
    "collapsed": true
   },
   "outputs": [],
   "source": [
    "X, y = load_data(return_X_y=True)\n",
    "rf = classifier_factory(RandomForestClassifier(random_state=1))\n",
    "rf.fit(X, y)\n",
    "rf.plot_feature_importances(feature_names=['petal length', 'petal width',\n",
    "                                           'sepal length', 'sepal width'])\n",
    "plt.show()"
   ]
  },
  {
   "cell_type": "markdown",
   "metadata": {},
   "source": [
    "#### Using the more flexible functions API"
   ]
  },
  {
   "cell_type": "code",
   "execution_count": null,
   "metadata": {
    "collapsed": true
   },
   "outputs": [],
   "source": [
    "from scikitplot import plotters as skplt\n",
    "rf = RandomForestClassifier()\n",
    "rf = rf.fit(X, y)\n",
    "skplt.plot_feature_importances(rf, feature_names=['petal length', 'petal width',\n",
    "                                                  'sepal length', 'sepal width'])\n",
    "plt.show()"
   ]
  }
 ],
 "metadata": {
  "kernelspec": {
   "display_name": "Python 3",
   "language": "python",
   "name": "python3"
  },
  "language_info": {
   "codemirror_mode": {
    "name": "ipython",
    "version": 3
   },
   "file_extension": ".py",
   "mimetype": "text/x-python",
   "name": "python",
   "nbconvert_exporter": "python",
   "pygments_lexer": "ipython3",
   "version": "3.5.2"
  }
 },
 "nbformat": 4,
 "nbformat_minor": 0
}
